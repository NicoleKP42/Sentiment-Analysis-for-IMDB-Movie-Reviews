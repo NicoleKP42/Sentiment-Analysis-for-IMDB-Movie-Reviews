{
 "cells": [
  {
   "cell_type": "code",
   "execution_count": 1,
   "id": "959e0901",
   "metadata": {
    "colab": {
     "base_uri": "https://localhost:8080/"
    },
    "id": "959e0901",
    "outputId": "b1cfda04-2d27-4bb2-a1ed-f961c4a09bce"
   },
   "outputs": [
    {
     "name": "stdout",
     "output_type": "stream",
     "text": [
      "Requirement already satisfied: pyspark in c:\\users\\pooja\\anaconda3\\lib\\site-packages (3.3.1)\n",
      "Requirement already satisfied: py4j==0.10.9.5 in c:\\users\\pooja\\anaconda3\\lib\\site-packages (from pyspark) (0.10.9.5)\n"
     ]
    }
   ],
   "source": [
    "\n",
    "!pip install pyspark"
   ]
  },
  {
   "cell_type": "code",
   "execution_count": null,
   "id": "keEkvFJ3x4po",
   "metadata": {
    "colab": {
     "base_uri": "https://localhost:8080/"
    },
    "id": "keEkvFJ3x4po",
    "outputId": "f38c074f-7cd9-4469-a32c-c21dfeec71e3"
   },
   "outputs": [],
   "source": [
    "# Mount google drive\n",
    "from google.colab import drive\n",
    "# This will prompt for authorization.\n",
    "drive.mount('/content/drive/', force_remount=True)"
   ]
  },
  {
   "cell_type": "code",
   "execution_count": null,
   "id": "WXRoc0xUykNe",
   "metadata": {
    "colab": {
     "base_uri": "https://localhost:8080/"
    },
    "id": "WXRoc0xUykNe",
    "outputId": "6c5790ec-d938-47f5-db22-dbe5236c833e"
   },
   "outputs": [],
   "source": [
    "import os\n",
    "base_dir = '/content/drive/MyDrive/IDS561_ProjectData/'\n",
    "os.chdir(base_dir)\n",
    "os.listdir()"
   ]
  },
  {
   "cell_type": "code",
   "execution_count": 8,
   "id": "n9L5DjOBZeyt",
   "metadata": {
    "id": "n9L5DjOBZeyt"
   },
   "outputs": [],
   "source": [
    "import matplotlib\n",
    "import matplotlib.pyplot as plt\n",
    "import warnings\n",
    "warnings.filterwarnings('ignore')\n",
    "matplotlib.style.use('ggplot')\n",
    "\n",
    "from pyspark.ml import *\n",
    "from pyspark.ml.classification import *\n",
    "from pyspark.ml.feature import *\n",
    "from pyspark.ml.param import *\n",
    "from pyspark.ml.tuning import *\n",
    "from pyspark.ml.evaluation import *\n",
    "from pyspark.sql.types import DoubleType\n",
    "from pyspark.sql.functions import rand \n",
    "from sklearn.metrics import classification_report\n",
    "from time import time\n",
    "from pyspark import SparkContext, SparkConf\n",
    "from pyspark.sql import SQLContext, Row"
   ]
  },
  {
   "cell_type": "code",
   "execution_count": 9,
   "id": "-LN_IDMLxtVj",
   "metadata": {
    "id": "-LN_IDMLxtVj"
   },
   "outputs": [],
   "source": [
    "from pyspark.sql import SparkSession\n",
    "spark = SparkSession.builder.appName('IDS561_Project_sql').getOrCreate()\n",
    "imdb_df=spark.read.csv('IMDB Dataset.csv',\n",
    "                         sep=',',\n",
    "                         header=True,\n",
    "                         quote='\"',\n",
    "                         encoding='utf-8',\n",
    "                         escape='\"',\n",
    "                         multiLine=True).\\\n",
    "                         select(\n",
    "                             'review',\n",
    "                             'sentiment'                             \n",
    "                             )"
   ]
  },
  {
   "cell_type": "code",
   "execution_count": 10,
   "id": "cqHjV29S0CKV",
   "metadata": {
    "colab": {
     "base_uri": "https://localhost:8080/"
    },
    "id": "cqHjV29S0CKV",
    "outputId": "f5053706-3d26-4d3b-8b4f-86b8342c69f1"
   },
   "outputs": [
    {
     "name": "stdout",
     "output_type": "stream",
     "text": [
      "50000\n",
      "+--------------------+---------+\n",
      "|              review|sentiment|\n",
      "+--------------------+---------+\n",
      "|One of the other ...| positive|\n",
      "|A wonderful littl...| positive|\n",
      "|I thought this wa...| positive|\n",
      "|Basically there's...| negative|\n",
      "|Petter Mattei's \"...| positive|\n",
      "+--------------------+---------+\n",
      "only showing top 5 rows\n",
      "\n",
      "root\n",
      " |-- review: string (nullable = true)\n",
      " |-- sentiment: string (nullable = true)\n",
      "\n"
     ]
    }
   ],
   "source": [
    "print(imdb_df.count())\n",
    "imdb_df.show(5)\n",
    "imdb_df.printSchema()"
   ]
  },
  {
   "cell_type": "code",
   "execution_count": 11,
   "id": "LjXGe9qk6rsd",
   "metadata": {
    "colab": {
     "base_uri": "https://localhost:8080/"
    },
    "id": "LjXGe9qk6rsd",
    "outputId": "cf254225-8cd0-4b4f-f97e-4573855a52d7"
   },
   "outputs": [
    {
     "name": "stdout",
     "output_type": "stream",
     "text": [
      "+--------------------+--------+\n",
      "|              review|   label|\n",
      "+--------------------+--------+\n",
      "|One of the other ...|positive|\n",
      "|A wonderful littl...|positive|\n",
      "|I thought this wa...|positive|\n",
      "|Basically there's...|negative|\n",
      "|Petter Mattei's \"...|positive|\n",
      "+--------------------+--------+\n",
      "only showing top 5 rows\n",
      "\n"
     ]
    }
   ],
   "source": [
    "imdb_df = imdb_df.withColumnRenamed(\"sentiment\",\"label\")\n",
    "imdb_df.show(5)"
   ]
  },
  {
   "cell_type": "code",
   "execution_count": 12,
   "id": "dgnO_9vSXSQE",
   "metadata": {
    "id": "dgnO_9vSXSQE"
   },
   "outputs": [],
   "source": [
    "# convert String labels to int type\n",
    "import pyspark.sql.functions as F\n",
    "\n",
    "imdb_df = imdb_df.withColumn('label', F.when(imdb_df.label == 'negative', 0).otherwise(1))\n"
   ]
  },
  {
   "cell_type": "code",
   "execution_count": 7,
   "id": "P3ib7UV0b0Id",
   "metadata": {
    "colab": {
     "base_uri": "https://localhost:8080/",
     "height": 112
    },
    "id": "P3ib7UV0b0Id",
    "outputId": "98b15172-0f64-47cd-97f0-8122ebda4cbe"
   },
   "outputs": [
    {
     "data": {
      "text/html": [
       "<div>\n",
       "<style scoped>\n",
       "    .dataframe tbody tr th:only-of-type {\n",
       "        vertical-align: middle;\n",
       "    }\n",
       "\n",
       "    .dataframe tbody tr th {\n",
       "        vertical-align: top;\n",
       "    }\n",
       "\n",
       "    .dataframe thead th {\n",
       "        text-align: right;\n",
       "    }\n",
       "</style>\n",
       "<table border=\"1\" class=\"dataframe\">\n",
       "  <thead>\n",
       "    <tr style=\"text-align: right;\">\n",
       "      <th></th>\n",
       "      <th>label</th>\n",
       "      <th>count</th>\n",
       "    </tr>\n",
       "  </thead>\n",
       "  <tbody>\n",
       "    <tr>\n",
       "      <th>0</th>\n",
       "      <td>1</td>\n",
       "      <td>25000</td>\n",
       "    </tr>\n",
       "    <tr>\n",
       "      <th>1</th>\n",
       "      <td>0</td>\n",
       "      <td>25000</td>\n",
       "    </tr>\n",
       "  </tbody>\n",
       "</table>\n",
       "</div>"
      ],
      "text/plain": [
       "   label  count\n",
       "0      1  25000\n",
       "1      0  25000"
      ]
     },
     "execution_count": 7,
     "metadata": {},
     "output_type": "execute_result"
    }
   ],
   "source": [
    "imdb_df.groupby('label').count().toPandas()"
   ]
  },
  {
   "cell_type": "code",
   "execution_count": null,
   "id": "aMNPNjcqcv8N",
   "metadata": {
    "colab": {
     "base_uri": "https://localhost:8080/"
    },
    "id": "aMNPNjcqcv8N",
    "outputId": "b90aebea-5b14-41af-9c33-b0bd72ee5fdd"
   },
   "outputs": [],
   "source": [
    "# Validating if null values in each column\n",
    "data_agg = imdb_df.agg(*[F.count(F.when(F.isnull(c), c)).alias(c) for c in imdb_df.columns])\n",
    "data_agg.show()"
   ]
  },
  {
   "cell_type": "code",
   "execution_count": null,
   "id": "dMYho4Jpn27J",
   "metadata": {
    "colab": {
     "base_uri": "https://localhost:8080/"
    },
    "id": "dMYho4Jpn27J",
    "outputId": "f0512a44-3e8b-4de7-d804-edf8e592a840"
   },
   "outputs": [],
   "source": [
    "imdb_df.toPandas()['review'].isnull().sum()\n",
    "imdb_df.toPandas()['label'].isnull().sum()"
   ]
  },
  {
   "cell_type": "code",
   "execution_count": 13,
   "id": "UqzKD8UHbXEK",
   "metadata": {
    "colab": {
     "base_uri": "https://localhost:8080/"
    },
    "id": "UqzKD8UHbXEK",
    "outputId": "ccd72510-1819-4411-9d68-1dfb1f0082a9"
   },
   "outputs": [
    {
     "name": "stdout",
     "output_type": "stream",
     "text": [
      "Row(features=SparseVector(262144, {2325: 3.1114, 3280: 13.108, 4367: 6.6609, 6957: 3.2463, 9129: 4.6852, 9781: 2.1362, 10345: 4.4414, 13041: 5.9756, 13130: 4.4229, 13266: 9.4335, 17893: 2.7926, 20376: 5.5315, 21570: 2.9565, 21732: 4.3966, 21823: 0.5639, 21894: 3.3662, 23071: 2.1615, 24031: 6.7746, 25964: 2.4796, 29066: 3.299, 29926: 9.7212, 32070: 5.1499, 35091: 5.7384, 36547: 6.0491, 40299: 2.8936, 43333: 3.9793, 44484: 4.4637, 46762: 13.4719, 47959: 7.1062, 52889: 5.2515, 55875: 3.2224, 59830: 10.428, 60824: 6.8201, 62058: 2.5572, 63139: 3.7625, 63746: 4.2131, 64465: 4.1839, 65492: 12.9007, 66187: 5.7139, 70065: 1.8954, 70292: 3.8213, 70546: 8.7404, 73018: 10.8247, 77161: 6.389, 77645: 2.5091, 77971: 5.4679, 91192: 2.2396, 92032: 3.9374, 92064: 4.7537, 92159: 3.2264, 92651: 2.6459, 97514: 5.9071, 97799: 4.1618, 98586: 3.3697, 98717: 2.7602, 99580: 6.32, 101176: 5.1638, 101501: 6.7594, 101796: 5.1194, 102353: 4.7867, 102759: 6.8495, 106606: 9.7212, 107951: 8.6226, 113186: 4.2131, 113673: 1.6087, 117484: 2.9432, 123811: 5.214, 133087: 5.9145, 136020: 5.2085, 140461: 9.4341, 143952: 5.9071, 148675: 1.8146, 149378: 4.6799, 152470: 2.7835, 153969: 3.2707, 156850: 8.1807, 157249: 4.7106, 163768: 7.524, 164143: 33.8281, 165678: 2.282, 167503: 2.1556, 170717: 4.9821, 171222: 3.4958, 174888: 1.9515, 175966: 3.7559, 177195: 6.928, 182804: 3.0225, 182806: 5.4775, 185324: 4.8184, 185774: 6.298, 186925: 1.2036, 188835: 2.7543, 190041: 7.5617, 191621: 3.8972, 192076: 6.0407, 192499: 4.9477, 194186: 5.0515, 203802: 1.6419, 206461: 3.3559, 207119: 1.8466, 207264: 6.3425, 209266: 2.8002, 209518: 2.4875, 209594: 5.1362, 210074: 6.9697, 212249: 4.6213, 216369: 3.7679, 218376: 4.6778, 218690: 3.5863, 219137: 5.4082, 219709: 4.3336, 219879: 2.7589, 221128: 4.9282, 221770: 4.1166, 225898: 2.142, 226718: 4.2545, 226782: 6.389, 227040: 3.3171, 229166: 4.4139, 229543: 6.6889, 231660: 8.1117, 232221: 6.6003, 233632: 7.3541, 234564: 6.2247, 235415: 3.5377, 235941: 4.1117, 241271: 6.5023, 244055: 7.524, 245044: 1.5952, 245415: 2.2126, 245731: 6.0316, 247394: 2.8785, 248179: 7.0284, 249130: 3.208, 250007: 7.8241, 252535: 6.2146, 252722: 2.6358, 253761: 9.2104, 254661: 2.1273}), label=1)\n",
      "Row(features=SparseVector(262144, {521: 4.8744, 3665: 4.8434, 3928: 2.9779, 4558: 5.5675, 6558: 1.9291, 7982: 5.6958, 8538: 1.1227, 11422: 4.0308, 15585: 2.8892, 17893: 2.7926, 21823: 0.5639, 24657: 2.4822, 25872: 4.1452, 32817: 5.647, 37542: 3.9001, 44141: 5.8214, 49669: 5.2251, 51247: 2.4579, 61318: 2.8654, 62312: 4.811, 62696: 2.7999, 63139: 1.8813, 64273: 5.1886, 65338: 5.726, 71016: 4.564, 71723: 2.6086, 73288: 2.3581, 78683: 4.2011, 79830: 8.1117, 86967: 6.1948, 88966: 5.0391, 92159: 3.2264, 94822: 4.8134, 96629: 5.185, 97880: 2.9015, 98717: 2.7602, 101896: 5.8782, 113299: 2.2487, 121517: 1.0594, 122678: 9.1128, 127501: 3.2597, 127700: 8.4219, 133334: 5.6493, 156466: 4.5301, 158661: 2.4389, 167029: 3.2974, 168715: 9.7212, 172517: 1.7061, 173657: 6.7255, 176497: 2.0297, 178482: 9.028, 182235: 2.0067, 185422: 3.8952, 186925: 3.6108, 188011: 6.5584, 199295: 4.6072, 199667: 4.0097, 201511: 2.5388, 206387: 3.4848, 206397: 3.2289, 206442: 6.7089, 207119: 1.8466, 207889: 7.1562, 208497: 5.4037, 210746: 4.7964, 211210: 7.1822, 214676: 2.1226, 215147: 17.0344, 215688: 4.7399, 219979: 9.4335, 225669: 6.5431, 225898: 2.142, 229264: 1.2008, 230524: 4.1339, 242022: 3.331, 245604: 3.6031, 248394: 4.326, 256523: 5.4775, 261870: 1.3802}), label=1)\n",
      "Row(features=SparseVector(262144, {1043: 6.1658, 1398: 5.7764, 4254: 3.7602, 8538: 1.1227, 11462: 3.3802, 12524: 2.3834, 15585: 2.8892, 19698: 1.5844, 21823: 0.5639, 23222: 11.043, 24397: 4.6274, 28390: 4.1389, 31536: 1.7576, 33162: 5.3817, 35237: 4.2602, 36225: 2.2445, 36755: 6.4253, 47197: 3.7499, 48689: 4.3725, 51471: 1.4417, 51804: 4.7353, 61444: 5.1638, 63139: 1.8813, 69397: 1.8551, 73288: 4.7162, 74375: 4.2802, 75898: 4.1465, 76106: 1.9527, 83409: 4.5602, 84933: 4.1427, 88505: 5.684, 89530: 2.2871, 91192: 4.4793, 92159: 2.1509, 93692: 6.0662, 98221: 3.5316, 98424: 3.7916, 100466: 3.3791, 101176: 5.1638, 102353: 4.7867, 105093: 5.5066, 109156: 2.2221, 109208: 3.3726, 109971: 8.6226, 113673: 1.6087, 115074: 4.2199, 121517: 1.0594, 123217: 3.9718, 130047: 2.7956, 134304: 2.9107, 135923: 2.5272, 138837: 4.9938, 139305: 5.9915, 142343: 4.282, 148612: 2.9413, 148675: 1.8146, 148880: 2.2793, 154843: 4.8955, 158102: 3.3732, 159711: 5.0391, 160071: 8.2548, 165688: 4.0387, 167401: 4.3853, 171222: 1.7479, 172129: 6.2451, 173287: 7.4186, 174966: 1.0956, 181938: 1.6132, 186480: 1.7232, 186925: 1.2036, 192394: 5.1094, 194974: 4.1721, 212761: 4.2145, 215171: 9.4335, 216558: 6.8686, 223998: 4.7017, 224869: 4.0444, 229166: 2.2069, 234706: 2.2634, 235619: 4.3185, 244434: 3.6142, 245044: 1.5952, 260570: 4.6778, 261870: 1.3802}), label=1)\n"
     ]
    }
   ],
   "source": [
    "# convert the distinct labels in the input dataset to index values\n",
    "labelIndexer = StringIndexer(inputCol=\"label\", outputCol=\"indexedLabel\").fit(imdb_df)\n",
    "# tokenizer \n",
    "tokenizer = RegexTokenizer(inputCol=\"review\", outputCol=\"words\", pattern=\"\\W\")##'\\w' remove none-word letters\n",
    "df_tokenized = tokenizer.transform(imdb_df)\n",
    "# remove stop words\n",
    "remover = StopWordsRemover(inputCol=\"words\", outputCol=\"filtered\")\n",
    "df_removed = remover.transform(df_tokenized)\n",
    "# Convert to TF words vector\n",
    "hashingTF = HashingTF(inputCol=\"filtered\", outputCol=\"rawFeatures\")\n",
    "df_TF = hashingTF.transform(df_removed)\n",
    "# Convert to TF*IDF words vector\n",
    "idf = IDF(inputCol=\"rawFeatures\", outputCol=\"features\")\n",
    "idfModel = idf.fit(df_TF)\n",
    "df_idf = idfModel.transform(df_TF)\n",
    "for features_label in df_idf.select(\"features\", \"label\").take(3):\n",
    "    print(features_label)"
   ]
  },
  {
   "cell_type": "code",
   "execution_count": 14,
   "id": "J7PHlgOuelJy",
   "metadata": {
    "colab": {
     "base_uri": "https://localhost:8080/",
     "height": 147
    },
    "id": "J7PHlgOuelJy",
    "outputId": "3d494696-eb90-45e6-cbe3-25533f2582ae"
   },
   "outputs": [
    {
     "name": "stdout",
     "output_type": "stream",
     "text": [
      "Sample number in the train set : 39991\n",
      "Sample number in the test set : 10009\n"
     ]
    },
    {
     "data": {
      "text/html": [
       "<div>\n",
       "<style scoped>\n",
       "    .dataframe tbody tr th:only-of-type {\n",
       "        vertical-align: middle;\n",
       "    }\n",
       "\n",
       "    .dataframe tbody tr th {\n",
       "        vertical-align: top;\n",
       "    }\n",
       "\n",
       "    .dataframe thead th {\n",
       "        text-align: right;\n",
       "    }\n",
       "</style>\n",
       "<table border=\"1\" class=\"dataframe\">\n",
       "  <thead>\n",
       "    <tr style=\"text-align: right;\">\n",
       "      <th></th>\n",
       "      <th>label</th>\n",
       "      <th>count</th>\n",
       "    </tr>\n",
       "  </thead>\n",
       "  <tbody>\n",
       "    <tr>\n",
       "      <th>0</th>\n",
       "      <td>1</td>\n",
       "      <td>20037</td>\n",
       "    </tr>\n",
       "    <tr>\n",
       "      <th>1</th>\n",
       "      <td>0</td>\n",
       "      <td>19954</td>\n",
       "    </tr>\n",
       "  </tbody>\n",
       "</table>\n",
       "</div>"
      ],
      "text/plain": [
       "   label  count\n",
       "0      1  20037\n",
       "1      0  19954"
      ]
     },
     "execution_count": 14,
     "metadata": {},
     "output_type": "execute_result"
    }
   ],
   "source": [
    "# Split data aproximately into training (80%) and test (20%)\n",
    "(train, test)=imdb_df.randomSplit([0.8,0.2], seed = 0)\n",
    "# Cache the train and test data in-memory \n",
    "train = train.cache()\n",
    "test = test.cache()\n",
    "print((\"Sample number in the train set : {}\").format(train.count()))\n",
    "print((\"Sample number in the test set : {}\").format(test.count()))\n",
    "train.groupby('label').count().toPandas()"
   ]
  },
  {
   "cell_type": "code",
   "execution_count": null,
   "id": "8Tt4UgwXfclS",
   "metadata": {
    "id": "8Tt4UgwXfclS"
   },
   "outputs": [],
   "source": [
    "# Logistic Regression\n",
    "\n",
    "def grid_search(p1,p2,p3,p4):\n",
    "    lr = LogisticRegression()\n",
    "    pipeline = Pipeline(stages=[labelIndexer,tokenizer, remover, hashingTF, idfModel, lr])\n",
    "  \n",
    "    #Create ParamGrid for Cross Validation\n",
    "    paramGrid = (ParamGridBuilder()\n",
    "                 .addGrid(hashingTF.numFeatures, [p1])\n",
    "                 .addGrid(lr.regParam, [p2])\n",
    "                 .addGrid(lr.elasticNetParam, [p3])\n",
    "                 .addGrid(lr.maxIter, [p4])\n",
    "                 .build())\n",
    "    evaluator = MulticlassClassificationEvaluator(labelCol=\"indexedLabel\", predictionCol=\"prediction\", metricName=\"accuracy\")\n",
    "    crossval = CrossValidator(estimator=pipeline,\n",
    "                              estimatorParamMaps=paramGrid,\n",
    "                              evaluator=evaluator,\n",
    "                              numFolds=4)\n",
    "    \n",
    "    ########  Run cross-validation, and choose the best set of parameters.\n",
    "    cvModel = crossval.fit(train)\n",
    "    # average cross-validation accuracy metric/s on all folds\n",
    "    average_score = cvModel.avgMetrics\n",
    "    print(('average cross-validation accuracy = {}').format(average_score[0]))\n",
    "    return average_score[0]"
   ]
  },
  {
   "cell_type": "code",
   "execution_count": null,
   "id": "TsipwUxnf47u",
   "metadata": {
    "colab": {
     "base_uri": "https://localhost:8080/",
     "height": 553
    },
    "id": "TsipwUxnf47u",
    "outputId": "572c6e06-8505-448a-b8bb-ce21f7ead8a4"
   },
   "outputs": [],
   "source": [
    "score=0.0\n",
    "for p1 in [45000,50000,55000]:\n",
    "    for p2 in [0.09,0.10,0.11]:\n",
    "        for p3 in [0.09,0.10,0.11]:\n",
    "            for p4 in [9,10,11]:\n",
    "                t0 = time()\n",
    "                print(('(numFeatures,regParam,elasticNetParam,maxIter)=({},{},{},{})').format(p1,p2,p3,p4))\n",
    "                average_score=grid_search(p1,p2,p3,p4)\n",
    "                tt = time() - t0\n",
    "                print((\"Classifier trained in {} seconds\").format(round(tt,3)))\n",
    "                if average_score > score:\n",
    "                    print('################ Best score ######################')\n",
    "                    params=(p1,p2,p3,p4)\n",
    "                    score=average_score\n",
    "print(('Best score is {} at params ={}').format(score, params))"
   ]
  },
  {
   "cell_type": "code",
   "execution_count": 15,
   "id": "7e7e8209",
   "metadata": {
    "id": "7e7e8209"
   },
   "outputs": [],
   "source": [
    "def Data_modeling(train, test, pipeline, paramGrid):\n",
    "    evaluator = MulticlassClassificationEvaluator(labelCol=\"indexedLabel\", predictionCol=\"prediction\", metricName=\"accuracy\")\n",
    "    crossval = CrossValidator(estimator=pipeline,\n",
    "                              estimatorParamMaps=paramGrid,\n",
    "                              evaluator=evaluator,\n",
    "                              numFolds=4)\n",
    "    \n",
    "    ########  Run cross-validation, and choose the best set of parameters.\n",
    "    cvModel = crossval.fit(train)\n",
    "    \n",
    "    ########  Make predictions on on the test data\n",
    "    prediction = cvModel.transform(test)\n",
    "    average_score = cvModel.avgMetrics\n",
    "    print(('average cross-validation accuracy = {}').format(average_score[0]))\n",
    "    ######## Calculate accuracy of the prediction of the test data\n",
    "    evaluator = MulticlassClassificationEvaluator(labelCol=\"indexedLabel\", predictionCol=\"prediction\", metricName=\"accuracy\")\n",
    "    accuracy_score=evaluator.evaluate(prediction)\n",
    "    print(('Accuracy in the test data = {}').format(accuracy_score))\n",
    "    \n",
    "    ######## F1 score of the prediction of the test data\n",
    "    evaluator = MulticlassClassificationEvaluator(labelCol=\"label\", predictionCol=\"prediction\", metricName=\"f1\")\n",
    "    f1_score=evaluator.evaluate(prediction)\n",
    "    print(('F1 score in the test data = {}').format(f1_score))\n",
    "        \n",
    "    ######## Print classification_report\n",
    "    prediction_and_labels=prediction.select(\"label\",\"prediction\")\n",
    "    y_true = []\n",
    "    y_pred = []\n",
    "    for x in prediction_and_labels.collect():\n",
    "        xx = list(x)\n",
    "        try:\n",
    "            tt = int(xx[1])\n",
    "            pp = int(xx[0])\n",
    "            y_true.append(tt)\n",
    "            y_pred.append(pp)\n",
    "        except:\n",
    "            continue\n",
    "\n",
    "    target_names = ['neg 0', 'pos 1']\n",
    "    print(classification_report(y_true, y_pred, target_names=target_names))\n",
    "    return "
   ]
  },
  {
   "cell_type": "code",
   "execution_count": 16,
   "id": "0197ac15",
   "metadata": {
    "colab": {
     "base_uri": "https://localhost:8080/"
    },
    "id": "0197ac15",
    "outputId": "9f69ec27-52a0-44ce-d432-92189e9c193e"
   },
   "outputs": [
    {
     "name": "stdout",
     "output_type": "stream",
     "text": [
      "average cross-validation accuracy = 0.8584972377077896\n",
      "Accuracy in the test data = 0.8640223798581277\n",
      "F1 score in the test data = 0.863783226165679\n",
      "              precision    recall  f1-score   support\n",
      "\n",
      "       neg 0       0.82      0.90      0.86      4583\n",
      "       pos 1       0.91      0.83      0.87      5426\n",
      "\n",
      "    accuracy                           0.86     10009\n",
      "   macro avg       0.86      0.87      0.86     10009\n",
      "weighted avg       0.87      0.86      0.86     10009\n",
      "\n"
     ]
    }
   ],
   "source": [
    "# Train by a Logistic regression Model\n",
    "lr = LogisticRegression()\n",
    "# Build a pipeline\n",
    "pipeline = Pipeline(stages=[labelIndexer,tokenizer, remover, hashingTF, idfModel, lr])\n",
    "\n",
    "# Create ParamGrid for Cross Validation \n",
    "paramGrid = (ParamGridBuilder()\n",
    "             .addGrid(hashingTF.numFeatures, [50000])\n",
    "             .addGrid(lr.regParam, [0.10])\n",
    "             .addGrid(lr.elasticNetParam, [0.10])\n",
    "             .addGrid(lr.maxIter, [10])\n",
    "             .build())\n",
    "# Execute 4-folds cross validation for hyperparameter tuning, model prediction and model evaluation.\n",
    "Data_modeling(train, test, pipeline, paramGrid)"
   ]
  },
  {
   "cell_type": "code",
   "execution_count": null,
   "id": "985c5f47",
   "metadata": {
    "id": "985c5f47"
   },
   "outputs": [],
   "source": [
    "def grid_search(p1,p2):\n",
    "    nb = NaiveBayes()\n",
    "    pipeline = Pipeline(stages=[labelIndexer,tokenizer, remover, hashingTF, idfModel, nb])\n",
    "  \n",
    "    #Create ParamGrid for Cross Validation\n",
    "    paramGrid = (ParamGridBuilder()\n",
    "                 .addGrid(hashingTF.numFeatures, [p1])\n",
    "                 .addGrid(nb.smoothing, [p2])\n",
    "                 .build())\n",
    "    evaluator = MulticlassClassificationEvaluator(labelCol=\"indexedLabel\", predictionCol=\"prediction\", metricName=\"accuracy\")\n",
    "    crossval = CrossValidator(estimator=pipeline,\n",
    "                              estimatorParamMaps=paramGrid,\n",
    "                              evaluator=evaluator,\n",
    "                              numFolds=4)\n",
    "    \n",
    "    ########  Run cross-validation, and choose the best set of parameters.\n",
    "    cvModel = crossval.fit(train)\n",
    "    # average cross-validation accuracy metric/s on all folds\n",
    "    average_score = cvModel.avgMetrics\n",
    "    print(('average cross-validation accuracy = {}').format(average_score[0]))\n",
    "    return average_score[0]"
   ]
  },
  {
   "cell_type": "code",
   "execution_count": null,
   "id": "d7b1749d",
   "metadata": {
    "colab": {
     "base_uri": "https://localhost:8080/"
    },
    "id": "d7b1749d",
    "outputId": "f95f7d70-4e68-41bd-adb2-d1ec4ce6405b"
   },
   "outputs": [],
   "source": [
    "score=0.0\n",
    "for p1 in [35000,40000,55000]:\n",
    "    for p2 in [0.8,0.9,1.0]:\n",
    "      t0 = time()\n",
    "      print(('(numFeatures,smoothing)=({},{})').format(p1,p2))\n",
    "      average_score=grid_search(p1,p2)\n",
    "      tt = time() - t0\n",
    "      print ((\"Classifier trained in {} seconds\").format(round(tt,3)))\n",
    "      if average_score > score:\n",
    "        print('################ Best score ######################')\n",
    "        params=(p1,p2)\n",
    "        score=average_score\n",
    "print(('Best score is {} at params ={}').format(score, params))"
   ]
  },
  {
   "cell_type": "code",
   "execution_count": 18,
   "id": "92cfb4eb",
   "metadata": {
    "colab": {
     "base_uri": "https://localhost:8080/"
    },
    "id": "92cfb4eb",
    "outputId": "7592d9bc-0f4f-4d3a-d61f-87f156cb7680"
   },
   "outputs": [
    {
     "name": "stdout",
     "output_type": "stream",
     "text": [
      "average cross-validation accuracy = 0.8476583483211434\n",
      "Accuracy in the test data = 0.8507343390948147\n",
      "F1 score in the test data = 0.8507244290215308\n",
      "              precision    recall  f1-score   support\n",
      "\n",
      "       neg 0       0.86      0.85      0.85      5096\n",
      "       pos 1       0.84      0.85      0.85      4913\n",
      "\n",
      "    accuracy                           0.85     10009\n",
      "   macro avg       0.85      0.85      0.85     10009\n",
      "weighted avg       0.85      0.85      0.85     10009\n",
      "\n"
     ]
    }
   ],
   "source": [
    "# trained by a Naïve Bayes \n",
    "nb = NaiveBayes()\n",
    "# Build a pipeline\n",
    "pipeline = Pipeline(stages=[labelIndexer,tokenizer, remover, hashingTF, idfModel, nb])\n",
    "# Create ParamGrid for Cross Validation \n",
    "paramGrid = (ParamGridBuilder()\n",
    "             .addGrid(hashingTF.numFeatures, [40000])\n",
    "             .addGrid(nb.smoothing, [1.0])\n",
    "             .build())\n",
    "# Execute 4-folds cross validation for hyperparameter tuning, model prediction and model evaluation.\n",
    "Data_modeling(train, test, pipeline, paramGrid)"
   ]
  },
  {
   "cell_type": "code",
   "execution_count": null,
   "id": "6578f549",
   "metadata": {
    "id": "6578f549"
   },
   "outputs": [],
   "source": [
    "#Decision Tree\n",
    "def grid_search(p1,p2,p3):\n",
    "    # trained by a Decision Tree \n",
    "    dt = DecisionTreeClassifier(labelCol=\"indexedLabel\",impurity=\"entropy\")\n",
    "    pipeline = Pipeline(stages=[labelIndexer,tokenizer, remover, hashingTF, idfModel, dt])\n",
    "  \n",
    "    #Create ParamGrid for Cross Validation\n",
    "    paramGrid = (ParamGridBuilder()\n",
    "                 .addGrid(hashingTF.numFeatures, [p1])\n",
    "                 .addGrid(dt.maxDepth, [p2])\n",
    "                 .addGrid(dt.minInstancesPerNode, [p3])\n",
    "                 .build())\n",
    "    evaluator = MulticlassClassificationEvaluator(labelCol=\"indexedLabel\", predictionCol=\"prediction\", metricName=\"accuracy\")\n",
    "    crossval = CrossValidator(estimator=pipeline,\n",
    "                              estimatorParamMaps=paramGrid,\n",
    "                              evaluator=evaluator,\n",
    "                              numFolds=4)\n",
    "    \n",
    "    ########  Run cross-validation, and choose the best set of parameters.\n",
    "    cvModel = crossval.fit(train)\n",
    "    # average cross-validation accuracy metric/s on all folds\n",
    "    average_score = cvModel.avgMetrics\n",
    "    print(('average cross-validation accuracy = {}').format(average_score[0]))\n",
    "    return average_score[0]"
   ]
  },
  {
   "cell_type": "code",
   "execution_count": null,
   "id": "da787463",
   "metadata": {
    "colab": {
     "base_uri": "https://localhost:8080/"
    },
    "id": "da787463",
    "outputId": "c5a3d0b1-8108-4aa3-88fe-97ee156af284"
   },
   "outputs": [],
   "source": [
    "score=0.0\n",
    "for p1 in [65000,70000,75000]:\n",
    "    for p2 in [23,24,25,26,27]:\n",
    "        for p3 in [3,4,5]:\n",
    "          t0 = time()\n",
    "          print(('(numFeatures,maxDepth,minInstancesPerNode)=({},{},{})').format(p1,p2,p3))\n",
    "          average_score=grid_search(p1,p2,p3)\n",
    "          tt = time() - t0\n",
    "          print((\"Classifier trained in {} seconds\").format(round(tt,3)))\n",
    "          if average_score > score:\n",
    "            print('################ Best score ######################')\n",
    "            params=(p1,p2,p3)\n",
    "            score=average_score\n",
    "print(('Best score is {} at params ={}').format(score, params))"
   ]
  },
  {
   "cell_type": "code",
   "execution_count": 11,
   "id": "cd3f168d",
   "metadata": {
    "id": "cd3f168d"
   },
   "outputs": [
    {
     "name": "stdout",
     "output_type": "stream",
     "text": [
      "average cross-validation accuracy = 0.7313386247372835\n",
      "Accuracy in the test data = 0.7341392746528125\n",
      "F1 score in the test data = 0.7337928303539383\n",
      "              precision    recall  f1-score   support\n",
      "\n",
      "       neg 0       0.70      0.76      0.73      4641\n",
      "       pos 1       0.77      0.71      0.74      5368\n",
      "\n",
      "    accuracy                           0.73     10009\n",
      "   macro avg       0.73      0.74      0.73     10009\n",
      "weighted avg       0.74      0.73      0.73     10009\n",
      "\n"
     ]
    }
   ],
   "source": [
    "# Train by Decision Tree Model\n",
    "dt = DecisionTreeClassifier(labelCol=\"indexedLabel\",impurity=\"entropy\")\n",
    "# Build a pipeline\n",
    "pipeline = Pipeline(stages=[labelIndexer,tokenizer, remover, hashingTF, idfModel, dt])\n",
    "# Create ParamGrid for Cross Validation\n",
    "paramGrid = (ParamGridBuilder()\n",
    "             .addGrid(hashingTF.numFeatures, [70000])\n",
    "             .addGrid(dt.maxDepth, [25])\n",
    "             .addGrid(dt.minInstancesPerNode, [4])\n",
    "             .build())\n",
    "# Execute 4-folds cross validation for hyperparameter tuning, model prediction and model evaluation.\n",
    "Data_modeling(train, test, pipeline, paramGrid)"
   ]
  },
  {
   "cell_type": "code",
   "execution_count": null,
   "id": "c7de1d42",
   "metadata": {
    "id": "c7de1d42"
   },
   "outputs": [],
   "source": [
    "#RandomForest\n",
    "def grid_search(p1,p2,p3,p4):\n",
    "    rf = RandomForestClassifier(labelCol=\"indexedLabel\",impurity=\"entropy\", seed=5043)\n",
    "    pipeline = Pipeline(stages=[labelIndexer,tokenizer, remover, hashingTF, idfModel, rf])\n",
    "  \n",
    "    #Create ParamGrid for Cross Validation\n",
    "    paramGrid = (ParamGridBuilder()\n",
    "                 .addGrid(hashingTF.numFeatures, [p1])\n",
    "                 .addGrid(rf.numTrees, [p2])\n",
    "                 .addGrid(rf.maxDepth, [p3])\n",
    "                 .addGrid(rf.minInstancesPerNode, [p4])\n",
    "                 .build())\n",
    "    evaluator = MulticlassClassificationEvaluator(labelCol=\"indexedLabel\", predictionCol=\"prediction\", metricName=\"accuracy\")\n",
    "    crossval = CrossValidator(estimator=pipeline,\n",
    "                              estimatorParamMaps=paramGrid,\n",
    "                              evaluator=evaluator,\n",
    "                              numFolds=4)\n",
    "    \n",
    "    ########  Run cross-validation, and choose the best set of parameters.\n",
    "    cvModel = crossval.fit(train)\n",
    "    # average cross-validation accuracy metric/s on all folds\n",
    "    average_score = cvModel.avgMetrics\n",
    "    print(('average cross-validation accuracy = {}').format(average_score[0]))\n",
    "    return average_score[0]"
   ]
  },
  {
   "cell_type": "code",
   "execution_count": null,
   "id": "170f7bdb",
   "metadata": {
    "id": "170f7bdb"
   },
   "outputs": [],
   "source": [
    "score=0.0\n",
    "for p1 in [45000,50000,55000]:\n",
    "    for p2 in [30,31,32]:\n",
    "        for p3 in [28,29,30]:\n",
    "            for p4 in [1,2]:\n",
    "                t0 = time()\n",
    "                print(('(numFeatures,numTrees,maxDepth,minInstancesPerNode)=({},{},{},{})').format(p1,p2,p3,p4))\n",
    "                average_score=grid_search(p1,p2,p3,p4)\n",
    "                tt = time() - t0\n",
    "                print((\"Classifier trained in {} seconds\").format(round(tt,3)))\n",
    "                if average_score > score:\n",
    "                  print('################ Best score ######################')\n",
    "                  params=(p1,p2,p3,p4)\n",
    "                  score=average_score\n",
    "print(('Best score is {} at params ={}').format(score, params))\n",
    "#Best score is 0.77096908939 at params =(50000, 31, 29, 1)"
   ]
  },
  {
   "cell_type": "code",
   "execution_count": 12,
   "id": "d1767b82",
   "metadata": {
    "id": "d1767b82"
   },
   "outputs": [
    {
     "name": "stdout",
     "output_type": "stream",
     "text": [
      "average cross-validation accuracy = 0.8250304458404724\n",
      "Accuracy in the test data = 0.8272554700769308\n",
      "F1 score in the test data = 0.8270403055276523\n",
      "              precision    recall  f1-score   support\n",
      "\n",
      "       neg 0       0.79      0.86      0.82      4649\n",
      "       pos 1       0.87      0.80      0.83      5360\n",
      "\n",
      "    accuracy                           0.83     10009\n",
      "   macro avg       0.83      0.83      0.83     10009\n",
      "weighted avg       0.83      0.83      0.83     10009\n",
      "\n"
     ]
    }
   ],
   "source": [
    "rf = RandomForestClassifier(labelCol=\"indexedLabel\",impurity=\"entropy\", seed=5043)\n",
    "# Build a pipeline\n",
    "pipeline = Pipeline(stages=[labelIndexer,tokenizer, remover, hashingTF, idfModel, rf])\n",
    "\n",
    "# Create ParamGrid for Cross Validation\n",
    "paramGrid = (ParamGridBuilder()\n",
    "             .addGrid(hashingTF.numFeatures, [50000])\n",
    "             .addGrid(rf.numTrees, [31])\n",
    "             .addGrid(rf.maxDepth, [29])\n",
    "             .addGrid(rf.minInstancesPerNode, [1])\n",
    "             .build())\n",
    "# Execute 4-folds cross validation for hyperparameter tuning, model prediction and model evaluation.\n",
    "Data_modeling(train, test, pipeline, paramGrid)"
   ]
  },
  {
   "cell_type": "code",
   "execution_count": null,
   "id": "3bc22dc7",
   "metadata": {
    "id": "3bc22dc7"
   },
   "outputs": [],
   "source": [
    "#Gradient Boosting\n",
    "def grid_search(p1,p2,p3,p4):\n",
    "    gbt = GBTClassifier(labelCol=\"indexedLabel\")\n",
    "    pipeline = Pipeline(stages=[labelIndexer,tokenizer, remover, hashingTF, idfModel, gbt])\n",
    "  \n",
    "    #Create ParamGrid for Cross Validation\n",
    "    paramGrid = (ParamGridBuilder()\n",
    "                 .addGrid(hashingTF.numFeatures, [p1])\n",
    "                 .addGrid(gbt.maxIter, [p2]) #(default: 20)\n",
    "                 .addGrid(gbt.maxDepth, [p3])\n",
    "                 .addGrid(gbt.minInstancesPerNode, [p4])\n",
    "                 .build())\n",
    "    evaluator = MulticlassClassificationEvaluator(labelCol=\"indexedLabel\", predictionCol=\"prediction\", metricName=\"accuracy\")\n",
    "    crossval = CrossValidator(estimator=pipeline,\n",
    "                              estimatorParamMaps=paramGrid,\n",
    "                              evaluator=evaluator,\n",
    "                              numFolds=4)\n",
    "    \n",
    "    ########  Run cross-validation, and choose the best set of parameters.\n",
    "    cvModel = crossval.fit(train)\n",
    "    # average cross-validation accuracy metric/s on all folds\n",
    "    average_score = cvModel.avgMetrics\n",
    "    print(('average cross-validation accuracy = {}').format(average_score[0]))\n",
    "    return average_score[0]\n",
    "\n",
    "\n"
   ]
  },
  {
   "cell_type": "code",
   "execution_count": null,
   "id": "1da0801f",
   "metadata": {
    "id": "1da0801f"
   },
   "outputs": [],
   "source": [
    "score=0.0\n",
    "for p1 in [60000]:\n",
    "    for p2 in [25,26,27]:\n",
    "        for p3 in [18,19,20]:\n",
    "            for p4 in [2]:\n",
    "                t0 = time()\n",
    "                print(('(numFeatures,maxIter,maxDepth,minInstancesPerNode)=({},{},{},{})').format(p1,p2,p3,p4))\n",
    "                average_score=grid_search(p1,p2,p3,p4)\n",
    "                tt = time() - t0\n",
    "                print((\"Classifier trained in {} seconds\").format(round(tt,3)))\n",
    "                if average_score > score:\n",
    "                  print('################ Best score ######################')\n",
    "                  params=(p1,p2,p3,p4)\n",
    "                  score=(average_scoreprint 'Best score is {} at params ={}').format(score, params)"
   ]
  },
  {
   "cell_type": "code",
   "execution_count": null,
   "id": "uPL1hgCVdik3",
   "metadata": {
    "id": "uPL1hgCVdik3"
   },
   "outputs": [],
   "source": [
    "# trained by a Gradient Boosted Tree \n",
    "gbt = GBTClassifier(labelCol=\"indexedLabel\")\n",
    "# Build a pipeline\n",
    "pipeline = Pipeline(stages=[labelIndexer,tokenizer, remover, hashingTF, idfModel, gbt])\n",
    "# Create ParamGrid for Cross Validation\n",
    "paramGrid = (ParamGridBuilder()\n",
    "             .addGrid(hashingTF.numFeatures, [60000])\n",
    "             .addGrid(gbt.maxIter, [25]) #(default: 20)\n",
    "             .addGrid(gbt.maxDepth, [19])\n",
    "             .addGrid(gbt.minInstancesPerNode, [2])\n",
    "             .build())\n",
    "# Execute 4-folds cross validation for hyperparameter tuning, model prediction and model evaluation.\n",
    "Data_modeling(train, test, pipeline, paramGrid)"
   ]
  },
  {
   "cell_type": "code",
   "execution_count": 19,
   "id": "DwymQTG8eEWs",
   "metadata": {
    "colab": {
     "base_uri": "https://localhost:8080/",
     "height": 351
    },
    "id": "DwymQTG8eEWs",
    "outputId": "8f138a60-313f-49f5-8d79-e3b2a53e634c"
   },
   "outputs": [
    {
     "data": {
      "image/png": "[encoded data removed]",
      "text/plain": [
       "<Figure size 1800x500 with 2 Axes>"
      ]
     },
     "metadata": {},
     "output_type": "display_data"
    }
   ],
   "source": [
    "import matplotlib.pyplot as plt\n",
    "import numpy as np\n",
    "classifier_names=['Logistic_Regression', 'Naive_Bayes', 'Decision_Tree', 'Random_Forest', 'Gradient_Boosted_Tree']\n",
    "time=[6.41,2.893,141,133,3179]\n",
    "accuracy=[0.86402,0.8507,0.7313,0.8272,0.8229]\n",
    "fig, ax = plt.subplots(nrows=1,ncols=2,figsize=(18,5), facecolor='white')\n",
    "ax[0].barh(np.arange(0, 5),time)\n",
    "ax[0].set_yticks(np.arange(0.5, 5.5))\n",
    "ax[0].set_yticklabels(classifier_names)\n",
    "ax[0].grid(color='b', linestyle='--', linewidth=1)\n",
    "ax[0].set_title('Model Training Time')\n",
    "ax[0].set_xlabel('Time (sec)')\n",
    "ax[0].set_xscale('log')\n",
    "\n",
    "ax[1].barh(range(0, len(classifier_names)),accuracy)\n",
    "ax[1].set_xlim([0.70,0.88])\n",
    "ax[1].set_title('Model Evaluation on the Test set')\n",
    "ax[1].set_xlabel('Accuracy')\n",
    "ax[1].set_yticklabels([])\n",
    "ax[1].grid(color='b', linestyle='--', linewidth=1)"
   ]
  }
 ],
 "metadata": {
  "colab": {
   "provenance": [],
   "toc_visible": true
  },
  "kernelspec": {
   "display_name": "Python 3 (ipykernel)",
   "language": "python",
   "name": "python3"
  },
  "language_info": {
   "codemirror_mode": {
    "name": "ipython",
    "version": 3
   },
   "file_extension": ".py",
   "mimetype": "text/x-python",
   "name": "python",
   "nbconvert_exporter": "python",
   "pygments_lexer": "ipython3",
   "version": "3.9.13"
  }
 },
 "nbformat": 4,
 "nbformat_minor": 5
}
